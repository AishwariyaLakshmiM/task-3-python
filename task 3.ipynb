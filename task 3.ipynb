{
 "cells": [
  {
   "cell_type": "code",
   "execution_count": 3,
   "id": "ba1b1432-3105-44bf-9b8e-a5272a49a024",
   "metadata": {},
   "outputs": [
    {
     "name": "stdout",
     "output_type": "stream",
     "text": [
      "\"“The world as we have created it is a process of our thinking. It cannot be changed without changing our thinking.”\" - Albert Einstein\n",
      "\"“It is our choices, Harry, that show what we truly are, far more than our abilities.”\" - J.K. Rowling\n",
      "\"“There are only two ways to live your life. One is as though nothing is a miracle. The other is as though everything is a miracle.”\" - Albert Einstein\n",
      "\"“The person, be it gentleman or lady, who has not pleasure in a good novel, must be intolerably stupid.”\" - Jane Austen\n",
      "\"“Imperfection is beauty, madness is genius and it's better to be absolutely ridiculous than absolutely boring.”\" - Marilyn Monroe\n",
      "\"“Try not to become a man of success. Rather become a man of value.”\" - Albert Einstein\n",
      "\"“It is better to be hated for what you are than to be loved for what you are not.”\" - André Gide\n",
      "\"“I have not failed. I've just found 10,000 ways that won't work.”\" - Thomas A. Edison\n",
      "\"“A woman is like a tea bag; you never know how strong it is until it's in hot water.”\" - Eleanor Roosevelt\n",
      "\"“A day without sunshine is like, you know, night.”\" - Steve Martin\n"
     ]
    }
   ],
   "source": [
    "import requests\n",
    "from bs4 import BeautifulSoup\n",
    "url = 'http://quotes.toscrape.com/'\n",
    "response = requests.get(url)\n",
    "if response.status_code == 200:\n",
    "    soup = BeautifulSoup(response.content, 'html.parser')\n",
    "    quotes = soup.find_all('div', class_='quote')\n",
    "    for quote in quotes:\n",
    "        text = quote.find('span', class_='text').get_text()\n",
    "        author = quote.find('small', class_='author').get_text()\n",
    "        print(f'\"{text}\" - {author}')\n",
    "else:\n",
    "    print(f\"Failed to retrieve the webpage. Status code: {response.status_code}\")\n"
   ]
  },
  {
   "cell_type": "code",
   "execution_count": 6,
   "id": "a8fda47a-a59a-44ed-82b3-475d777ce601",
   "metadata": {},
   "outputs": [
    {
     "name": "stdout",
     "output_type": "stream",
     "text": [
      "\"A Light in the Attic\" - £51.77\n",
      "\"Tipping the Velvet\" - £53.74\n",
      "\"Soumission\" - £50.10\n",
      "\"Sharp Objects\" - £47.82\n",
      "\"Sapiens: A Brief History of Humankind\" - £54.23\n",
      "\"The Requiem Red\" - £22.65\n",
      "\"The Dirty Little Secrets of Getting Your Dream Job\" - £33.34\n",
      "\"The Coming Woman: A Novel Based on the Life of the Infamous Feminist, Victoria Woodhull\" - £17.93\n",
      "\"The Boys in the Boat: Nine Americans and Their Epic Quest for Gold at the 1936 Berlin Olympics\" - £22.60\n",
      "\"The Black Maria\" - £52.15\n",
      "\"Starving Hearts (Triangular Trade Trilogy, #1)\" - £13.99\n",
      "\"Shakespeare's Sonnets\" - £20.66\n",
      "\"Set Me Free\" - £17.46\n",
      "\"Scott Pilgrim's Precious Little Life (Scott Pilgrim #1)\" - £52.29\n",
      "\"Rip it Up and Start Again\" - £35.02\n",
      "\"Our Band Could Be Your Life: Scenes from the American Indie Underground, 1981-1991\" - £57.25\n",
      "\"Olio\" - £23.88\n",
      "\"Mesaerion: The Best Science Fiction Stories 1800-1849\" - £37.59\n",
      "\"Libertarianism for Beginners\" - £51.33\n",
      "\"It's Only the Himalayas\" - £45.17\n"
     ]
    }
   ],
   "source": [
    "import requests\n",
    "from bs4 import BeautifulSoup\n",
    "def scrape_books(url):\n",
    "    response = requests.get(url)\n",
    "    if response.status_code == 200:\n",
    "        soup = BeautifulSoup(response.content, 'html.parser')\n",
    "        books = []\n",
    "        book_elements = soup.find_all('article', class_='product_pod')\n",
    "        for book_element in book_elements:\n",
    "            title = book_element.h3.a['title']\n",
    "            price = book_element.find('p', class_='price_color').get_text(strip=True)\n",
    "            books.append((title, price))\n",
    "        return books\n",
    "    else:\n",
    "        print(f\"Failed to retrieve the webpage. Status code: {response.status_code}\")\n",
    "        return []\n",
    "def main():\n",
    "    url = 'http://books.toscrape.com/catalogue/page-1.html'\n",
    "    books = scrape_books(url)\n",
    "    for title, price in books:\n",
    "        print(f'\"{title}\" - {price}')\n",
    "if __name__ == \"__main__\":\n",
    "    main()\n"
   ]
  },
  {
   "cell_type": "code",
   "execution_count": 7,
   "id": "9908cf47-3c48-4545-bf7a-9b0083386f8b",
   "metadata": {},
   "outputs": [
    {
     "name": "stdout",
     "output_type": "stream",
     "text": [
      "\"“The world as we have created it is a process of our thinking. It cannot be changed without changing our thinking.”\" - Albert Einstein\n",
      "\"“It is our choices, Harry, that show what we truly are, far more than our abilities.”\" - J.K. Rowling\n",
      "\"“There are only two ways to live your life. One is as though nothing is a miracle. The other is as though everything is a miracle.”\" - Albert Einstein\n",
      "\"“The person, be it gentleman or lady, who has not pleasure in a good novel, must be intolerably stupid.”\" - Jane Austen\n",
      "\"“Imperfection is beauty, madness is genius and it's better to be absolutely ridiculous than absolutely boring.”\" - Marilyn Monroe\n",
      "\"“Try not to become a man of success. Rather become a man of value.”\" - Albert Einstein\n",
      "\"“It is better to be hated for what you are than to be loved for what you are not.”\" - André Gide\n",
      "\"“I have not failed. I've just found 10,000 ways that won't work.”\" - Thomas A. Edison\n",
      "\"“A woman is like a tea bag; you never know how strong it is until it's in hot water.”\" - Eleanor Roosevelt\n",
      "\"“A day without sunshine is like, you know, night.”\" - Steve Martin\n"
     ]
    }
   ],
   "source": [
    "import requests\n",
    "from bs4 import BeautifulSoup\n",
    "def scrape_quotes(url):\n",
    "    response = requests.get(url)\n",
    "    if response.status_code == 200:\n",
    "        soup = BeautifulSoup(response.content, 'html.parser')\n",
    "        quotes = []\n",
    "        quote_elements = soup.find_all('div', class_='quote')\n",
    "        for quote_element in quote_elements:\n",
    "            text = quote_element.find('span', class_='text').get_text(strip=True)\n",
    "            author = quote_element.find('small', class_='author').get_text(strip=True)\n",
    "            quotes.append((text, author))\n",
    "        return quotes\n",
    "    else:\n",
    "        print(f\"Failed to retrieve the webpage. Status code: {response.status_code}\")\n",
    "        return []\n",
    "def main():\n",
    "    url = 'http://quotes.toscrape.com/'\n",
    "    quotes = scrape_quotes(url)\n",
    "    if quotes:\n",
    "        for quote, author in quotes:\n",
    "            print(f'\"{quote}\" - {author}')\n",
    "    else:\n",
    "        print(\"No quotes were scraped.\")\n",
    "if __name__ == \"__main__\":\n",
    "    main()\n"
   ]
  },
  {
   "cell_type": "code",
   "execution_count": 8,
   "id": "e9216c52-58ec-4f93-93bc-85723e70b7e3",
   "metadata": {},
   "outputs": [
    {
     "name": "stdout",
     "output_type": "stream",
     "text": [
      "Text Content:\n",
      "This domain is for use in illustrative examples in documents. You may use this\n",
      "    domain in literature without prior coordination or asking for permission.\n",
      "More information...\n",
      "\n",
      "Links:\n",
      "Text: More information..., URL: https://www.iana.org/domains/example\n",
      "\n",
      "Images:\n"
     ]
    }
   ],
   "source": [
    "import requests\n",
    "from bs4 import BeautifulSoup\n",
    "def extract_info(url):\n",
    "    response = requests.get(url)\n",
    "    if response.status_code == 200:\n",
    "        soup = BeautifulSoup(response.content, 'html.parser')\n",
    "        paragraphs = soup.find_all('p')\n",
    "        text_content = [p.get_text(strip=True) for p in paragraphs]\n",
    "        links = soup.find_all('a', href=True)\n",
    "        link_list = [(link.get_text(strip=True), link['href']) for link in links]\n",
    "        images = soup.find_all('img', src=True)\n",
    "        image_list = [img['src'] for img in images]\n",
    "        return text_content, link_list, image_list\n",
    "    else:\n",
    "        print(f\"Failed to retrieve the webpage. Status code: {response.status_code}\")\n",
    "        return [], [], []\n",
    "def main():\n",
    "    url = 'http://example.com/'  # Replace with the URL you want to scrape\n",
    "    text_content, link_list, image_list = extract_info(url)\n",
    "    print(\"Text Content:\")\n",
    "    for text in text_content:\n",
    "        print(text)\n",
    "    print(\"\\nLinks:\")\n",
    "    for text, link in link_list:\n",
    "        print(f\"Text: {text}, URL: {link}\")\n",
    "    print(\"\\nImages:\")\n",
    "    for img_src in image_list:\n",
    "        print(img_src)\n",
    "if __name__ == \"__main__\":\n",
    "    main()\n"
   ]
  },
  {
   "cell_type": "code",
   "execution_count": null,
   "id": "d63e3174-8987-438b-b805-f2d8a9078885",
   "metadata": {},
   "outputs": [],
   "source": []
  }
 ],
 "metadata": {
  "kernelspec": {
   "display_name": "Python 3 (ipykernel)",
   "language": "python",
   "name": "python3"
  },
  "language_info": {
   "codemirror_mode": {
    "name": "ipython",
    "version": 3
   },
   "file_extension": ".py",
   "mimetype": "text/x-python",
   "name": "python",
   "nbconvert_exporter": "python",
   "pygments_lexer": "ipython3",
   "version": "3.12.4"
  }
 },
 "nbformat": 4,
 "nbformat_minor": 5
}
